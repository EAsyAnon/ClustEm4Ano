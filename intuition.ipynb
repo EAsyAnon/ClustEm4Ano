{
 "cells": [
  {
   "cell_type": "code",
   "metadata": {
    "colab": {
     "base_uri": "https://localhost:8080/",
     "height": 419
    },
    "id": "CPSaH1OkaB8b",
    "outputId": "aad1a25b-a41d-4269-d444-d4f574849a93",
    "ExecuteTime": {
     "end_time": "2024-05-29T10:53:01.759661Z",
     "start_time": "2024-05-29T10:53:01.754977Z"
    }
   },
   "source": [
    "# import matplotlib.pyplot as plt\n",
    "# import numpy as np\n",
    "# \n",
    "# # Generate data for the normal distribution\n",
    "# mu, sigma = 0, 1  # mean and standard deviation\n",
    "# x = np.linspace(mu - 3*sigma, mu + 3*sigma, 1000)\n",
    "# y = (1/(np.sqrt(2*np.pi*sigma**2))) * np.exp(-0.5*((x-mu)/sigma)**2)\n",
    "# \n",
    "# # Create the plot\n",
    "# plt.figure(figsize=(10, 6))\n",
    "# plt.plot(x, y, label='Normal Distribution')\n",
    "# plt.title('Normal Distribution')\n",
    "# plt.xlabel('Embedding')\n",
    "# plt.ylabel('Density')\n",
    "# plt.legend()\n",
    "# plt.grid(True)\n",
    "# plt.show()\n"
   ],
   "outputs": [],
   "execution_count": 10
  },
  {
   "cell_type": "code",
   "metadata": {
    "colab": {
     "base_uri": "https://localhost:8080/",
     "height": 287
    },
    "id": "lH59IhcwaKK6",
    "outputId": "d61ed005-1b8a-453e-b10f-fad72761d3f9",
    "ExecuteTime": {
     "end_time": "2024-05-29T10:53:01.819677Z",
     "start_time": "2024-05-29T10:53:01.816393Z"
    }
   },
   "source": [
    "# # Create the plot without axis values\n",
    "# plt.figure(figsize=(3, 2))\n",
    "# plt.plot(x, y)\n",
    "# plt.xlabel('Embedding')\n",
    "# plt.ylabel('Density')\n",
    "# # plt.axhline(0, color='black', linewidth=0.5)\n",
    "# # plt.axvline(0, color='black', linewidth=0.5)\n",
    "# plt.annotate('', xy=(1, 0), xycoords='axes fraction', xytext=(0, 0),\n",
    "#              arrowprops=dict(arrowstyle=\"->\", color='black', lw=1))\n",
    "# plt.annotate('', xy=(0, 1), xycoords='axes fraction', xytext=(0, 0),\n",
    "#              arrowprops=dict(arrowstyle=\"->\", color='black', lw=1))\n",
    "# \n",
    "# \n",
    "# # Remove x and y axis values\n",
    "# plt.xticks([])\n",
    "# plt.yticks([])\n",
    "# \n",
    "# # Remove the plot border (spines)\n",
    "# for spine in plt.gca().spines.values():\n",
    "#     spine.set_visible(False)\n",
    "#     \n",
    "# plt.title(\"possible values\")\n",
    "# \n",
    "# plt.savefig(\"0.png\", dpi=300)\n",
    "# \n",
    "# # plt.grid(True)\n",
    "# plt.show()\n"
   ],
   "outputs": [],
   "execution_count": 11
  },
  {
   "cell_type": "code",
   "metadata": {
    "colab": {
     "base_uri": "https://localhost:8080/",
     "height": 404
    },
    "id": "gPZIvtnZdHpj",
    "outputId": "b4251bd1-3019-446d-80df-f2eaab7eebff",
    "ExecuteTime": {
     "end_time": "2024-05-29T10:53:02.005060Z",
     "start_time": "2024-05-29T10:53:01.997666Z"
    }
   },
   "source": [
    "# import numpy as np\n",
    "# import matplotlib.pyplot as plt\n",
    "# import seaborn as sns\n",
    "# \n",
    "# # Generate data for a bimodal distribution\n",
    "# np.random.seed(15)\n",
    "# data1 = np.random.normal(loc=-1, scale=1, size=500)\n",
    "# data2 = np.random.normal(loc=1, scale=0.3, size=500)\n",
    "# data = np.concatenate([data1, data2])\n",
    "# \n",
    "# # Create the KDE plot\n",
    "# plt.figure(figsize=(3,2))\n",
    "# sns.kdeplot(data, color='b', fill=False, alpha=0.6)\n",
    "# plt.xlabel('Embedding')\n",
    "# plt.ylabel('Density')\n",
    "# \n",
    "# plt.annotate('', xy=(1, 0), xycoords='axes fraction', xytext=(0, 0),\n",
    "#              arrowprops=dict(arrowstyle=\"->\", color='black', lw=1))\n",
    "# plt.annotate('', xy=(0, 1), xycoords='axes fraction', xytext=(0, 0),\n",
    "#              arrowprops=dict(arrowstyle=\"->\", color='black', lw=1))\n",
    "# \n",
    "# # Remove x and y axis values\n",
    "# plt.xticks([])\n",
    "# plt.yticks([])\n",
    "# \n",
    "# # Remove the plot border (spines)\n",
    "# for spine in plt.gca().spines.values():\n",
    "#     spine.set_visible(False)\n",
    "# \n",
    "# plt.title(\"attribute values in dataset\")\n",
    "# plt.grid(False)\n",
    "# plt.savefig(\"d.png\", dpi=300)\n",
    "# plt.show()"
   ],
   "outputs": [],
   "execution_count": 12
  },
  {
   "cell_type": "code",
   "metadata": {
    "colab": {
     "base_uri": "https://localhost:8080/",
     "height": 309
    },
    "id": "4wV19MHufP8r",
    "outputId": "a0f6d62b-8331-48fd-d967-e7622ab81f4b",
    "ExecuteTime": {
     "end_time": "2024-05-29T10:53:02.775176Z",
     "start_time": "2024-05-29T10:53:02.118419Z"
    }
   },
   "source": [
    "# Create the bar plot with smaller bars and a smaller width\n",
    "plt.figure(figsize=(3, 2))  # Reduce width and keep the reduced height\n",
    "\n",
    "counts, bins, patches = plt.hist(data, bins=60, density=True, alpha=0.6, color='b', edgecolor='black')  # Smaller bars with more bins\n",
    "\n",
    "# Summarize exactly 2 bins into one on one position\n",
    "bin_index = 30  # Choose a bin index to summarize (change as needed)\n",
    "if bin_index < len(counts) - 1:\n",
    "    counts[bin_index] += counts[bin_index + 1]\n",
    "    counts = np.delete(counts, bin_index + 1)\n",
    "    bins = np.delete(bins, bin_index + 1)\n",
    "\n",
    "# Label the axes\n",
    "plt.xlabel('Embedding space')\n",
    "plt.ylabel('# Occurence')\n",
    "\n",
    "# plt.axhline(0, color='black', linewidth=0.5)\n",
    "# plt.axvline(0, color='black', linewidth=0.5)\n",
    "plt.annotate('', xy=(1, 0), xycoords='axes fraction', xytext=(0, 0),\n",
    "             arrowprops=dict(arrowstyle=\"->\", color='black', lw=1))\n",
    "plt.annotate('', xy=(0, 1), xycoords='axes fraction', xytext=(0, 0),\n",
    "             arrowprops=dict(arrowstyle=\"->\", color='black', lw=1))\n",
    "\n",
    "\n",
    "# Remove x and y axis values\n",
    "plt.xticks([])\n",
    "plt.yticks([])\n",
    "\n",
    "# Remove the plot border (spines)\n",
    "for spine in plt.gca().spines.values():\n",
    "    spine.set_visible(False)\n",
    "plt.title(\"0.\")\n",
    "\n",
    "plt.savefig(\"1.png\", dpi=300)\n",
    "\n",
    "\n",
    "# plt.grid(True)\n",
    "plt.show()\n",
    "\n",
    "\n"
   ],
   "outputs": [
    {
     "data": {
      "text/plain": [
       "<Figure size 300x200 with 1 Axes>"
      ],
      "image/png": "[encoded data removed]"
     },
     "metadata": {},
     "output_type": "display_data"
    }
   ],
   "execution_count": 13
  },
  {
   "cell_type": "code",
   "metadata": {
    "colab": {
     "base_uri": "https://localhost:8080/"
    },
    "id": "D165q-1oirHW",
    "outputId": "f4b4ccf7-ec11-477b-c0d2-daff68178959",
    "ExecuteTime": {
     "end_time": "2024-05-29T10:53:02.787723Z",
     "start_time": "2024-05-29T10:53:02.778887Z"
    }
   },
   "source": [
    "counts"
   ],
   "outputs": [
    {
     "data": {
      "text/plain": [
       "array([0.00943863, 0.        , 0.        , 0.        , 0.        ,\n",
       "       0.        , 0.01887726, 0.00943863, 0.00943863, 0.01887726,\n",
       "       0.00943863, 0.        , 0.00943863, 0.02831589, 0.        ,\n",
       "       0.04719315, 0.05663177, 0.07550903, 0.0660704 , 0.05663177,\n",
       "       0.08494766, 0.08494766, 0.17933395, 0.08494766, 0.18877258,\n",
       "       0.17933395, 0.13214081, 0.13214081, 0.2265271 , 0.20764984,\n",
       "       0.46249283, 0.18877258, 0.17933395, 0.20764984, 0.1604567 ,\n",
       "       0.12270218, 0.16989532, 0.14157944, 0.18877258, 0.10382492,\n",
       "       0.07550903, 0.08494766, 0.15101807, 0.16989532, 0.07550903,\n",
       "       0.2265271 , 0.41529968, 0.46249283, 0.43417694, 0.62294952,\n",
       "       0.66070404, 0.67014267, 0.59463364, 0.4530542 , 0.20764984,\n",
       "       0.20764984, 0.05663177, 0.00943863, 0.01887726])"
      ]
     },
     "execution_count": 14,
     "metadata": {},
     "output_type": "execute_result"
    }
   ],
   "execution_count": 14
  },
  {
   "cell_type": "code",
   "source": [
    "counts = [0.00943863, 0.        , 0.        , 0.        , 0.        ,\n",
    "       0.        , 0.01887726, 0.00943863, 0.00943863, 0.01887726,\n",
    "       0.00943863, 0.        , 0.00943863, 0.02831589, 0.        ,\n",
    "       0.04719315, 0.05663177, 0.07550903, 0.0660704 , 0.05663177,\n",
    "       0.08494766, 0.08494766, 0.17933395, 0.08494766, 0.18877258,\n",
    "       0.17933395, 0.13214081, 0.13214081, 0.2265271 , 0.20764984,\n",
    "       0.231246415, 0.18877258, 0.17933395, 0.20764984, 0.1604567 ,\n",
    "       0.12270218, 0.16989532, 0.14157944, 0.18877258, 0.10382492,\n",
    "       0.07550903, 0.08494766, 0.15101807, 0.16989532, 0.07550903,\n",
    "       0.2265271 , 0.41529968, 0.46249283, 0.43417694, 0.62294952,\n",
    "       0.66070404, 0.67014267, 0.59463364, 0.4530542 , 0.20764984,\n",
    "       0.20764984, 0.05663177, 0.00943863, 0.01887726]"
   ],
   "metadata": {
    "id": "RRozL9FETsXH",
    "ExecuteTime": {
     "end_time": "2024-05-29T10:53:02.828866Z",
     "start_time": "2024-05-29T10:53:02.791404Z"
    }
   },
   "outputs": [],
   "execution_count": 15
  },
  {
   "cell_type": "code",
   "source": [
    "bins"
   ],
   "metadata": {
    "colab": {
     "base_uri": "https://localhost:8080/"
    },
    "id": "soOT6KMwSsaH",
    "outputId": "3f6f80db-bfa3-4602-ba33-4f1cc48ba34a",
    "ExecuteTime": {
     "end_time": "2024-05-29T10:53:02.883203Z",
     "start_time": "2024-05-29T10:53:02.832755Z"
    }
   },
   "outputs": [
    {
     "data": {
      "text/plain": [
       "array([-4.46625972, -4.36031213, -4.25436454, -4.14841695, -4.04246936,\n",
       "       -3.93652178, -3.83057419, -3.7246266 , -3.61867901, -3.51273142,\n",
       "       -3.40678383, -3.30083624, -3.19488865, -3.08894106, -2.98299347,\n",
       "       -2.87704589, -2.7710983 , -2.66515071, -2.55920312, -2.45325553,\n",
       "       -2.34730794, -2.24136035, -2.13541276, -2.02946517, -1.92351758,\n",
       "       -1.81756999, -1.71162241, -1.60567482, -1.49972723, -1.39377964,\n",
       "       -1.28783205, -1.07593687, -0.96998928, -0.86404169, -0.7580941 ,\n",
       "       -0.65214652, -0.54619893, -0.44025134, -0.33430375, -0.22835616,\n",
       "       -0.12240857, -0.01646098,  0.08948661,  0.1954342 ,  0.30138179,\n",
       "        0.40732938,  0.51327696,  0.61922455,  0.72517214,  0.83111973,\n",
       "        0.93706732,  1.04301491,  1.1489625 ,  1.25491009,  1.36085768,\n",
       "        1.46680527,  1.57275285,  1.67870044,  1.78464803,  1.89059562])"
      ]
     },
     "execution_count": 16,
     "metadata": {},
     "output_type": "execute_result"
    }
   ],
   "execution_count": 16
  },
  {
   "cell_type": "code",
   "source": [
    "bins = [-4.46625972, -4.36031213, -4.25436454, -4.14841695, -4.04246936,\n",
    "       -3.93652178, -3.83057419, -3.7246266 , -3.61867901, -3.51273142,\n",
    "       -3.40678383, -3.30083624, -3.19488865, -3.08894106, -2.98299347,\n",
    "       -2.87704589, -2.7710983 , -2.66515071, -2.55920312, -2.45325553,\n",
    "       -2.34730794, -2.24136035, -2.13541276, -2.02946517, -1.92351758,\n",
    "       -1.81756999, -1.71162241, -1.60567482, -1.49972723, -1.39377964,\n",
    "       -1.28783205, -1.07593687, -0.96998928, -0.86404169, -0.7580941 ,\n",
    "       -0.65214652, -0.54619893, -0.44025134, -0.33430375, -0.22835616,\n",
    "       -0.12240857, -0.01646098,  0.08948661,  0.1954342 ,  0.30138179,\n",
    "        0.40732938,  0.51327696,  0.61922455,  0.72517214,  0.83111973,\n",
    "        0.93706732,  1.04301491,  1.1489625 ,  1.25491009,  1.36085768,\n",
    "        1.46680527,  1.57275285,  1.67870044,  1.78464803,  1.89059562]"
   ],
   "metadata": {
    "id": "zafh2l2YTvqr",
    "ExecuteTime": {
     "end_time": "2024-05-29T10:53:02.917963Z",
     "start_time": "2024-05-29T10:53:02.884386Z"
    }
   },
   "outputs": [],
   "execution_count": 17
  },
  {
   "cell_type": "code",
   "source": [
    "import numpy as np\n",
    "import matplotlib.pyplot as plt\n",
    "\n",
    "# Provided counts and bins values\n",
    "counts = np.array([0.00943863, 0., 0., 0., 0., 0., 0.01258484 , 0.01887726, 0.00943863, 0., 0.00943863, 0.02831589, 0., 0.04719315, 0.05663177, 0.07550903, 0.0660704, 0.05663177, 0.08494766, 0.08494766, \n",
    "                   0.11640977,\n",
    "                   0.17933395, 0.13214081, 0.13214081, 0.2265271, 0.20764984, 0.231246415, 0.18877258,\n",
    "                   0.17933395, 0.20764984, 0.1604567, 0.12270218, 0.16989532, 0.14157944, 0.18877258,\n",
    "                   0.10382492, 0.07550903, 0.08494766, 0.15101807, 0.16989532, 0.07550903, 0.2265271, 0.41529968, 0.46249283, 0.43417694, 0.6371074675, 0.4530542, 0.20764984, 0.20764984, 0.05663177, 0.00943863, 0.01887726])\n",
    "bins = np.array([-4.46625972, -4.36031213, -4.25436454, -4.14841695, -4.04246936, -3.93652178, -3.83057419, -3.51273142, -3.40678383, -3.30083624,\n",
    "                 -3.19488865, -3.08894106, -2.98299347, -2.87704589, -2.7710983, -2.66515071, -2.55920312, -2.45325553, -2.34730794, -2.24136035,\n",
    "                 -2.13541276, \n",
    "                 -1.81756999, -1.71162241, -1.60567482, \n",
    "                 -1.49972723, -1.39377964,\n",
    "                 -1.28783205, -1.07593687, -0.96998928, -0.86404169, -0.7580941, -0.65214652,\n",
    "                 -0.54619893, -0.44025134, -0.33430375, -0.22835616, -0.12240857, -0.01646098,\n",
    "                  0.08948661,  0.1954342,  0.30138179,  0.40732938,  0.51327696,  0.61922455,\n",
    "                  0.72517214,  0.83111973,  0.93706732,\n",
    "                  1.36085768,  1.46680527,  1.57275285,  1.67870044,  1.78464803,  1.89059562])\n",
    "\n",
    "plt.figure(figsize=(3,2))  # Reduce width and keep the reduced height\n",
    "\n",
    "# Create the bar plot\n",
    "plt.bar(bins[:-1], counts, width=np.diff(bins), align='edge', color='b', alpha=0.6, edgecolor='black')\n",
    "\n",
    "# Label the axes\n",
    "plt.xlabel('Embedding space')\n",
    "plt.ylabel('# Occurence')\n",
    "\n",
    "# plt.axhline(0, color='black', linewidth=0.5)\n",
    "# plt.axvline(0, color='black', linewidth=0.5)\n",
    "plt.annotate('', xy=(1, 0), xycoords='axes fraction', xytext=(0, 0),\n",
    "             arrowprops=dict(arrowstyle=\"->\", color='black', lw=1))\n",
    "plt.annotate('', xy=(0, 1), xycoords='axes fraction', xytext=(0, 0),\n",
    "             arrowprops=dict(arrowstyle=\"->\", color='black', lw=1))\n",
    "\n",
    "\n",
    "# Remove x and y axis values\n",
    "plt.xticks([])\n",
    "plt.yticks([])\n",
    "\n",
    "# Remove the plot border (spines)\n",
    "for spine in plt.gca().spines.values():\n",
    "    spine.set_visible(False)\n",
    "\n",
    "plt.title(\"N.\")\n",
    "\n",
    "\n",
    "plt.savefig(\"N.png\", dpi=300)\n",
    "\n",
    "# plt.grid(True)\n",
    "plt.show()"
   ],
   "metadata": {
    "colab": {
     "base_uri": "https://localhost:8080/",
     "height": 705
    },
    "id": "Uc_w_OGBYMwh",
    "outputId": "54fe2060-8b9b-4b61-9f5a-ff3ab3b322f5",
    "ExecuteTime": {
     "end_time": "2024-05-29T10:53:03.821752Z",
     "start_time": "2024-05-29T10:53:02.919136Z"
    }
   },
   "outputs": [
    {
     "data": {
      "text/plain": [
       "<Figure size 300x200 with 1 Axes>"
      ],
      "image/png": "[encoded data removed]"
     },
     "metadata": {},
     "output_type": "display_data"
    }
   ],
   "execution_count": 18
  }
 ],
 "metadata": {
  "colab": {
   "provenance": []
  },
  "kernelspec": {
   "display_name": "Python 3 (ipykernel)",
   "name": "python3",
   "language": "python"
  },
  "language_info": {
   "name": "python"
  }
 },
 "nbformat": 4,
 "nbformat_minor": 0
}
